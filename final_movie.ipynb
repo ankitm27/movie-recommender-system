{
 "cells": [
  {
   "cell_type": "code",
   "execution_count": null,
   "metadata": {
    "collapsed": true
   },
   "outputs": [],
   "source": [
    "import numpy as np\n",
    "import pandas as pd\n",
    "from pymongo import MongoClient\n",
    "%matplotlib inline\n",
    "import matplotlib.pyplot as plt\n",
    "\n",
    "#create client of mongo database\n",
    "client = MongoClient('localhost',27017)\n",
    "#create or access the db\n",
    "db = client.imdb_database"
   ]
  },
  {
   "cell_type": "code",
   "execution_count": null,
   "metadata": {
    "collapsed": true
   },
   "outputs": [],
   "source": [
    "#create or access the collection a.k.a. table in relational db\n",
    "#make data frame of all db\n",
    "#data frame 11\n",
    "collection = db.imdb_updated_eleven_collection\n",
    "df_11 = pd.DataFrame(list(collection.find()))\n",
    "df_11 = df_11[['movie_name','movie_year','movie_ratings','First_Genre','Second_Genre']]\n",
    "#sort frame by decending order of movie_ratings\n",
    "df_11 = df_11.sort_values(by='movie_ratings',ascending=0)\n",
    "#convert movie ratings into float\n",
    "df_11.movie_ratings = df_11.movie_ratings.astype(np.float)\n",
    "#initialize movie_list\n",
    "mean_list_11 = []\n",
    "#find_mean value\n",
    "# 2011\n",
    "\n",
    "#movie_list\n",
    "movie_list = ['Action','Animation','Comedy','Adventure','Biography','Crime','Documentry','Drama','Family','Fantasy','Film-Noir','Histroy','Horror','Music','Musical','Mystery','Romance',\n",
    "'Sci-Fi','Sport','Thiller','War','Western']\n",
    "\n",
    "for i in range(len(movie_list)):\n",
    "     work_list = df_11.loc[df_11['First_Genre'] == movie_list[i]]\n",
    "     mean_list_11.append(work_list[\"movie_ratings\"].mean()) \n",
    "#mean_list_11    "
   ]
  },
  {
   "cell_type": "code",
   "execution_count": null,
   "metadata": {
    "collapsed": true
   },
   "outputs": [],
   "source": [
    "#2012\n",
    "collection = db.imdb_updated_twelve_collection\n",
    "df_12 = pd.DataFrame(list(collection.find()))\n",
    "df_12 = df_12[['movie_name','movie_year','movie_ratings','First_Genre','Second_Genre']]\n",
    "df_12 = df_12.sort_values(by='movie_ratings',ascending=0)\n",
    "df_12.movie_ratings = df_12.movie_ratings.astype(np.float)\n",
    "mean_list_12 = []\n",
    "movie_list = ['Action','Animation','Comedy','Adventure','Biography','Crime','Documentry','Drama','Family','Fantasy','Film-Noir','Histroy','Horror','Music','Musical','Mystery','Romance',\n",
    "'Sci-Fi','Sport','Thiller','War','Western']\n",
    "for i in range(len(movie_list)):\n",
    "     work_list = df_12.loc[df_12['First_Genre'] == movie_list[i]]\n",
    "     mean_list_12.append(work_list[\"movie_ratings\"].mean()) \n",
    "#mean_list_12    "
   ]
  },
  {
   "cell_type": "code",
   "execution_count": null,
   "metadata": {
    "collapsed": true
   },
   "outputs": [],
   "source": [
    "#2013\n",
    "collection = db.imdb_updated_thirteen_collection\n",
    "df_13 = pd.DataFrame(list(collection.find()))\n",
    "df_12 = df_13[['movie_name','movie_year','movie_ratings','First_Genre','Second_Genre']]\n",
    "df_13 = df_13.sort_values(by='movie_ratings',ascending=0)\n",
    "df_13.movie_ratings = df_13.movie_ratings.astype(np.float)\n",
    "mean_list_13 = []\n",
    "movie_list = ['Action','Animation','Comedy','Adventure','Biography','Crime','Documentry','Drama','Family','Fantasy','Film-Noir','Histroy','Horror','Music','Musical','Mystery','Romance',\n",
    "'Sci-Fi','Sport','Thiller','War','Western']\n",
    "for i in range(len(movie_list)):\n",
    "     work_list = df_13.loc[df_13['First_Genre'] == movie_list[i]]\n",
    "     mean_list_13.append(work_list[\"movie_ratings\"].mean()) \n",
    "#mean_list_13    "
   ]
  },
  {
   "cell_type": "code",
   "execution_count": null,
   "metadata": {
    "collapsed": true
   },
   "outputs": [],
   "source": [
    "#2014\n",
    "collection = db.imdb_updated_forteen_collection\n",
    "df_14 = pd.DataFrame(list(collection.find()))\n",
    "df_14 = df_14[['movie_name','movie_year','movie_ratings','First_Genre','Second_Genre']]\n",
    "df_14 = df_14.sort_values(by='movie_ratings',ascending=0)\n",
    "df_14.movie_ratings = df_14.movie_ratings.astype(np.float)\n",
    "mean_list_14 = []\n",
    "movie_list = ['Action','Animation','Comedy','Adventure','Biography','Crime','Documentry','Drama','Family','Fantasy','Film-Noir','Histroy','Horror','Music','Musical','Mystery','Romance',\n",
    "'Sci-Fi','Sport','Thiller','War','Western']\n",
    "for i in range(len(movie_list)):\n",
    "     work_list = df_14.loc[df_14['First_Genre'] == movie_list[i]]\n",
    "     mean_list_14.append(work_list[\"movie_ratings\"].mean()) \n",
    "#mean_list_14    "
   ]
  },
  {
   "cell_type": "code",
   "execution_count": null,
   "metadata": {
    "collapsed": true
   },
   "outputs": [],
   "source": [
    "#2015\n",
    "collection = db.imdb_updated_forteen_collection\n",
    "df_15 = pd.DataFrame(list(collection.find()))\n",
    "df_15 = df_15[['movie_name','movie_year','movie_ratings','First_Genre','Second_Genre']]\n",
    "df_15 = df_15.sort_values(by='movie_ratings',ascending=0)\n",
    "df_15.movie_ratings = df_15.movie_ratings.astype(np.float)\n",
    "mean_list_15 = []\n",
    "movie_list = ['Action','Animation','Comedy','Adventure','Biography','Crime','Documentry','Drama','Family','Fantasy','Film-Noir','Histroy','Horror','Music','Musical','Mystery','Romance',\n",
    "'Sci-Fi','Sport','Thiller','War','Western']\n",
    "for i in range(len(movie_list)):\n",
    "     work_list = df_15.loc[df_15['First_Genre'] == movie_list[i]]\n",
    "     mean_list_15.append(work_list[\"movie_ratings\"].mean()) \n",
    "#mean_list_15    "
   ]
  },
  {
   "cell_type": "code",
   "execution_count": null,
   "metadata": {
    "collapsed": true
   },
   "outputs": [],
   "source": [
    "%matplotlib inline\n",
    "import matplotlib.pyplot as plt\n",
    "total_length = list(range(len(movie_list)))\n",
    "width = 0.15\n",
    "# Plotting the bars\n",
    "fig, ax = plt.subplots(figsize=(18,8))\n",
    "# Create a bar with pre_score data,\n",
    "# in position pos,\n",
    "plt.bar(total_length,mean_list_11,width,alpha=0.5,color='#EE3224')\n",
    "plt.bar([p + width for p in total_length],mean_list_12,width,alpha=0.5,color='#F78F1E')#,label=df['first_name'][1])\n",
    "plt.bar([p + width*2 for p in total_length],mean_list_13,width,alpha=0.5,color='#0000FF')#,label=df['first_name'][2])\n",
    "plt.bar([p + width*3 for p in total_length],mean_list_14,width,alpha=0.5,color='#00FFFF')#,label=df['first_name'][2])\n",
    "plt.bar([p + width*4 for p in total_length],mean_list_15,width,alpha=0.5,color='#FF7F50')#,label=df['first_name'][2])\n",
    "# Set the y axis label\n",
    "ax.set_ylabel('Movie Ratings')\n",
    "# Set the chart's title\n",
    "ax.set_title('Mean Movie Ratings')\n",
    "ax.set_title('graph only according to first Genre')\n",
    "# Set the position of the x ticks\n",
    "ax.set_xticks([p + 2* width for p in total_length])\n",
    "# Set the labels for the x ticks\n",
    "ax.set_xticklabels(movie_list)\n",
    "# Setting the x-axis and y-axis limits\n",
    "plt.xlim(min(total_length)-width, max(total_length)+width*6)\n",
    "plt.ylim([0, 10] )\n",
    "# Adding the legend and showing the plot\n",
    "plt.legend(['2011','2012','2013','2014','2015'], loc='upper left')\n",
    "plt.grid()\n",
    "plt.show()\n"
   ]
  },
  {
   "cell_type": "code",
   "execution_count": null,
   "metadata": {
    "collapsed": true
   },
   "outputs": [],
   "source": [
    "#selection of top movie in particulat year\n",
    "year_list = ['2011','2012','2013','2014','2015']\n",
    "year = raw_input(\"enter the year  \")\n",
    "choice = raw_input(\"enter your choice for Genre of movie  \")\n",
    "output = [] \n",
    "if year ==  '2011':\n",
    "    output = df_11.loc[df_11['First_Genre'] == choice ]\n",
    "elif year ==  '2012':\n",
    "    output = df_12.loc[df_12['First_Genre'] == choice ]\n",
    "elif year ==  '2013':\n",
    "    output = df_13.loc[df_13['First_Genre'] == choice ]\n",
    "elif year ==  '2014':\n",
    "    output = df_14.loc[df_14['First_Genre'] == choice ]\n",
    "elif year == '2015':\n",
    "    output = df_15.loc[df_15['First_Genre'] == choice ]    \n",
    "    \n",
    "print \"Top Movie accordind to user choice\"\n",
    "if len(output.index) == 0:\n",
    "    print \"sorry in year \"+ year + \" no movie relase of Genre - \"+ choice\n",
    "output[:2]\n"
   ]
  }
 ],
 "metadata": {
  "kernelspec": {
   "display_name": "Python 2",
   "language": "python",
   "name": "python2"
  },
  "language_info": {
   "codemirror_mode": {
    "name": "ipython",
    "version": 2
   },
   "file_extension": ".py",
   "mimetype": "text/x-python",
   "name": "python",
   "nbconvert_exporter": "python",
   "pygments_lexer": "ipython2",
   "version": "2.7.9"
  }
 },
 "nbformat": 4,
 "nbformat_minor": 0
}
